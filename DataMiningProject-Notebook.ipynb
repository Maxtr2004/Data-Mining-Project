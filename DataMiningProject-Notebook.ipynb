{
 "cells": [
  {
   "cell_type": "markdown",
   "metadata": {},
   "source": [
    "# Data Mining - What should the next Champion look like?"
   ]
  },
  {
   "cell_type": "markdown",
   "metadata": {},
   "source": [
    "## Problemdefiniton\n",
    "In League of Legends beeinflussen neue Champions die Spielbalance. Doch sind bestimmte Champion-Typen unterrepräsentiert? Diese Arbeit nutzt Machine Learning, um vorherzusagen, welche Champion-Eigenschaften im aktuellen Spielgewicht fehlen.\n",
    "\n",
    "So wird sich die zentrale Frage gestellt: Welche Kombination von Champion-Eigenschaften ist im derzeitigen Spielökosystem am stärksten unterrepräsentiert und könnte als Grundlage für die Entwicklung eines neuen Champions dienen?"
   ]
  },
  {
   "cell_type": "markdown",
   "metadata": {},
   "source": [
    "## Import - Datenauswahl"
   ]
  },
  {
   "cell_type": "markdown",
   "metadata": {},
   "source": [
    "### Import notwendiger Bibliotheken\n"
   ]
  },
  {
   "cell_type": "code",
   "execution_count": null,
   "metadata": {},
   "outputs": [],
   "source": [
    "# Datenverarbeitung & Numerik\n",
    "import pandas as pd  # Datenverarbeitung\n",
    "import numpy as np  # Numerische Berechnungen\n",
    "\n",
    "# Visualisierung\n",
    "import matplotlib.pyplot as plt  # Basis-Visualisierung\n",
    "import seaborn as sns  # Erweiterte Visualisierung\n",
    "%matplotlib inline  # Inline-Darstellung für Jupyter Notebooks\n",
    "\n",
    "# Datenaufbereitung & Preprocessing\n",
    "from sklearn.preprocessing import StandardScaler, OneHotEncoder, OrdinalEncoder  # Skalierung & Encoding\n",
    "from sklearn.model_selection import train_test_split  # Aufteilung in Trainings- & Testdaten\n",
    "from sklearn.pipeline import Pipeline\n",
    "from sklearn.compose import ColumnTransformer\n",
    "\n",
    "# Machine Learning Modelle\n",
    "from sklearn.ensemble import RandomForestClassifier, RandomForestRegressor  # Random Forest Modelle\n",
    "from sklearn.linear_model import LogisticRegression, LinearRegression  # Lineare Modelle\n",
    "from sklearn.svm import SVC  # Support Vector Machine Modell\n",
    "from sklearn.neural_network import MLPRegressor  # Neuronales Netz für Regression\n",
    "from xgboost import XGBClassifier, XGBRegressor  # Boosted Trees Modelle\n",
    "\n",
    "# Modellbewertung\n",
    "from sklearn.metrics import accuracy_score, confusion_matrix, classification_report  # Klassifikationsmetriken\n",
    "from sklearn.metrics import r2_score, mean_squared_error  # Regressionsmetriken\n",
    "\n",
    "# Hyperparameter-Tuning\n",
    "from sklearn.model_selection import GridSearchCV\n",
    "\n",
    "# Explorative Datenanalyse\n",
    "from ydata_profiling import ProfileReport  # Automatische EDA\n",
    "\n",
    "# Sonstiges\n",
    "import itertools  # Kombinatorik\n",
    "import pickle  # Modell speichern/laden"
   ]
  },
  {
   "cell_type": "markdown",
   "metadata": {},
   "source": [
    "### Datenimport"
   ]
  },
  {
   "cell_type": "markdown",
   "metadata": {},
   "source": [
    "Der folgende Datensatz wurde auf der Website \"Kaggle\" gefunden, hat seinen Ursprung jedoch in\n",
    "der Analyse- und Datenplattform MetaSRC. Diese Plattform sammelt, aggregiert und analysiert Match-Daten\n",
    "um die Trends des Spiels League of Legends darzustellen.\n",
    "Die Daten werden direkt aus öffentlichen Riot Games-APIs bezogen, wodurch die Statistiken\n",
    "patch-basiert aktualisiert werden."
   ]
  },
  {
   "cell_type": "code",
   "execution_count": null,
   "metadata": {},
   "outputs": [],
   "source": [
    "# Datensatz laden\n",
    "df = pd.read_csv('League of Legends Champion Stats 12.1.csv', sep=';')\n",
    "df.head()"
   ]
  },
  {
   "cell_type": "markdown",
   "metadata": {},
   "source": [
    "Der nächste Datensatz entstammt auch Kaggle, hat aber seinen Ursprung in dem \"League of Legends Wiki Champion Data Module\".\n",
    "Da dieser Veröffentlichungsdaten beinhaltet, eignet sich dieser für Zeitreihenanalysen\n",
    "Der Fokus liegt allerdings auf ersterem Datensatz, dieser dient nur als Hilfe für die Zeitreihenanalyse\n"
   ]
  },
  {
   "cell_type": "code",
   "execution_count": null,
   "metadata": {},
   "outputs": [],
   "source": [
    "df_basic = pd.read_csv('200125_LoL_champion_data.csv')\n",
    "df_basic.head()"
   ]
  },
  {
   "cell_type": "markdown",
   "metadata": {},
   "source": [
    "### Merging"
   ]
  },
  {
   "cell_type": "code",
   "execution_count": null,
   "metadata": {},
   "outputs": [],
   "source": [
    "# Verbunden werden die Datensätze durch den gemeinsamen Schlüssel des Champion-Namens\n",
    "# Dabei wollen wir zum ersten Datensatz die Informationen bezüglich Veröffenlichungsdatum hinzufügen\n",
    "\n",
    "# Spaltennamen für Konsistenz anpassen\n",
    "df_basic.rename(columns={'apiname': 'Name'}, inplace=True)\n",
    "\n",
    "# 'date' Spalte in datetime umwandeln\n",
    "df_basic['date'] = pd.to_datetime(df_basic['date'], errors='coerce')\n",
    "\n",
    "# Füge die Veröffentlichungsdaten aus df_basic zum Haupt-Datensatz df hinzu\n",
    "df = pd.merge(df, df_basic[['Name', 'date']], on='Name', how='left')\n",
    "\n",
    "df.head()"
   ]
  },
  {
   "cell_type": "markdown",
   "metadata": {},
   "source": [
    "## EDA und Pre-processing"
   ]
  },
  {
   "cell_type": "code",
   "execution_count": null,
   "metadata": {},
   "outputs": [],
   "source": []
  }
 ],
 "metadata": {
  "language_info": {
   "name": "python"
  }
 },
 "nbformat": 4,
 "nbformat_minor": 2
}
